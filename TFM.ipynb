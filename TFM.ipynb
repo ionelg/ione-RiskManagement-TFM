{
 "cells": [
  {
   "cell_type": "code",
   "execution_count": null,
   "metadata": {},
   "outputs": [],
   "source": [
    "#UTF-8 (Unicode Transformation Format-8)"
   ]
  },
  {
   "cell_type": "code",
   "execution_count": null,
   "metadata": {},
   "outputs": [],
   "source": [
    "print (\"\"\"TFM: RISK MANAGEMENT IN IBERIAN SPOT MARKET.\"\"\")   "
   ]
  },
  {
   "cell_type": "code",
   "execution_count": null,
   "metadata": {},
   "outputs": [],
   "source": [
    "\"\"\"\n",
    "01. DATA AQUISITION. \n",
    "(Brief description of API requests and Spot Market basics.)\n",
    "\"\"\"\n",
    "import pandas as pd\n",
    "import requests # When you ping a website or portal for information this is called making a request.\n",
    "import json # JavaScript Object Notation. Storing and Exanging files. \n",
    "import os # You can find important information about your location or about the process. \n",
    "import win32com.client as win32\n",
    "import datetime\n",
    "\n",
    "# Import numpy as np and import matploltlib(plt as pyplot)\n",
    "%pylab inline \n",
    "\n",
    "#Imports esios library. You can find data quisition,clear and preparation functions. Please read before continuing this notebook.\n",
    "import esios \n",
    "\n",
    "os.getcwd()  #Current working directory."
   ]
  },
  {
   "cell_type": "code",
   "execution_count": null,
   "metadata": {},
   "outputs": [],
   "source": [
    "# Working directory. esios.py must be there. Introduce your own working directory.\n",
    "os.chdir('C:\\\\Users\\\\user\\\\Desktop\\\\fwdvamoscoo')"
   ]
  },
  {
   "cell_type": "code",
   "execution_count": null,
   "metadata": {},
   "outputs": [],
   "source": [
    "# Header API request. In esios.py package introduce your own token.- consultasios@ree.es\n",
    "esios.header() "
   ]
  },
  {
   "cell_type": "code",
   "execution_count": null,
   "metadata": {},
   "outputs": [],
   "source": [
    "#Dictionary with json files.\n",
    "esios.archives_json_dict() "
   ]
  },
  {
   "cell_type": "code",
   "execution_count": null,
   "metadata": {},
   "outputs": [],
   "source": [
    "#Dictionary with json indicators. Data core of this project.\n",
    "esios_indicators = esios.indicators_dict()\n",
    "esios_indicators"
   ]
  },
  {
   "cell_type": "code",
   "execution_count": null,
   "metadata": {},
   "outputs": [],
   "source": [
    "# lengh of esios_indicators library or Number of indicators.\n",
    "len(esios_indicators)"
   ]
  },
  {
   "cell_type": "code",
   "execution_count": null,
   "metadata": {},
   "outputs": [],
   "source": [
    "#Sort esios_indicators dictionary by key, giving a list. Introducing a 'x[0]' will sort by value, alphabetically.\n",
    "\n",
    "#(lambda operator can have any number of arguments, but it can have only one expression.\n",
    "#It cannot contain any statements and it returns a function object which can be assigned to any variable.)\n",
    "\n",
    "sorted_esios_indicators = sorted(esios_indicators.items(), key=lambda x: x[1])\n",
    "sorted_esios_indicators"
   ]
  },
  {
   "cell_type": "code",
   "execution_count": null,
   "metadata": {},
   "outputs": [],
   "source": [
    "#Dataframe wich contains all agents present in  Iberian Spot market.\n",
    "programunits = esios.PUs() \n",
    "programunits"
   ]
  },
  {
   "cell_type": "code",
   "execution_count": null,
   "metadata": {},
   "outputs": [],
   "source": [
    "#Short description of programunits dataframe.\n",
    "programunits.describe() "
   ]
  },
  {
   "cell_type": "code",
   "execution_count": null,
   "metadata": {},
   "outputs": [],
   "source": [
    "#Info on 'programmunits'.\n",
    "programunits.info()"
   ]
  },
  {
   "cell_type": "code",
   "execution_count": null,
   "metadata": {},
   "outputs": [],
   "source": [
    "# This funtion returns a list with coincidences.\n",
    "esios.coincidences('solar')"
   ]
  },
  {
   "cell_type": "code",
   "execution_count": null,
   "metadata": {},
   "outputs": [],
   "source": [
    "#Alternative way to download \"UNIDADES DE PROGRAMACION\" dataset.\n",
    "#path =\"C:............/Data.csv\" #Download \"UNIDADES DE PORGRAMACION\" from www.esios.ree.es, rename as Data.\n",
    "#programunits = pd.read_csv(path, sep=';')\n",
    "#programunits.head()"
   ]
  },
  {
   "cell_type": "code",
   "execution_count": null,
   "metadata": {},
   "outputs": [],
   "source": [
    "#Columns tittles of 'programunits'\n",
    "programunits.columns.values.tolist()\n"
   ]
  },
  {
   "cell_type": "code",
   "execution_count": null,
   "metadata": {},
   "outputs": [],
   "source": [
    "#Erase spaces from dataframe head.\n",
    "programunits.columns = programunits.columns.str.replace(' ','')\n",
    "programunits"
   ]
  },
  {
   "cell_type": "code",
   "execution_count": null,
   "metadata": {},
   "outputs": [],
   "source": [
    "#Is there any NAN in programunits?\n",
    "programunits.isnull().values.any()"
   ]
  },
  {
   "cell_type": "code",
   "execution_count": null,
   "metadata": {},
   "outputs": [],
   "source": [
    "#Where are this NaN, if they were.\n",
    "programunits.isnull().sum()"
   ]
  },
  {
   "cell_type": "code",
   "execution_count": null,
   "metadata": {},
   "outputs": [],
   "source": [
    "#DISPLAY dataframe cointaining NAN.\n",
    "programunitsNAN = programunits[programunits.isnull().any(axis=1)]\n",
    "programunitsNAN"
   ]
  },
  {
   "cell_type": "code",
   "execution_count": null,
   "metadata": {},
   "outputs": [],
   "source": [
    "#Change NAN for Porfolio, if they were.\n",
    "programunits.fillna('PORFOLIO', inplace=True)\n",
    "programunits"
   ]
  },
  {
   "cell_type": "code",
   "execution_count": null,
   "metadata": {
    "scrolled": true
   },
   "outputs": [],
   "source": [
    "#Unique values in column 'ProductionType', All kinds of power generation.\n",
    "programunits.ProductionType.unique()"
   ]
  },
  {
   "cell_type": "code",
   "execution_count": null,
   "metadata": {},
   "outputs": [],
   "source": [
    "#This previous propaedeutic can help and give a big picture for those not familiarized with Iberian Power Market."
   ]
  },
  {
   "cell_type": "code",
   "execution_count": null,
   "metadata": {},
   "outputs": [],
   "source": [
    "\"\"\"\n",
    "02. DATA CLEANING AND PREPARATION.\n",
    "\"\"\""
   ]
  },
  {
   "cell_type": "code",
   "execution_count": null,
   "metadata": {
    "scrolled": false
   },
   "outputs": [],
   "source": [
    "# Indicators chosen for this project.\n",
    "\n",
    "#Please introduce starting and finishing dates of the period uou want to study in this format \"YYYYMMDD\" . \n",
    "# You can add or substract inputs.\n",
    "#Batch() returns Train and Test DataSet\n",
    "\n",
    "ini, fin = '20190102', '20190111'\n",
    "indList =[541,10249, 460,600,39,74,82, 10027,10034,84,85,10010, 762]\n",
    "\n",
    "TrainD =esios.Batch(ini , fin, indList)\n",
    "\n",
    "#except 762 'Net Balance' in EvalD\n",
    "EvalD = esios.Batch(ini,fin, indList[:-1])\n",
    "\n",
    "#TrainD"
   ]
  },
  {
   "cell_type": "code",
   "execution_count": null,
   "metadata": {},
   "outputs": [],
   "source": [
    "# Data selection and preparation.\n",
    "\n",
    "from sklearn.model_selection import train_test_split\n",
    "\n",
    "\n",
    "X = TrainD[['541','10249','10027','39','82','74','460','10010','84','85','10034']]\n",
    "X = X.fillna(0)\n",
    "X['hour'] = [x.hour for x in X.index]\n",
    "X['weekday'] = [x.weekday() for x in X.index]\n",
    "X['weekend'] = [1 if x>=5 else 0 for x in X['weekday']]\n",
    "X['dif_demp48'] = X['10027']-X['460']\n",
    "X['dif_eol48'] = X['10010']-X['541']\n",
    "X['windpower/Load'] = X['541'] / X['460'] \n",
    "X['P48SOLAR']= X['84']+X['85']\n",
    "X['dif_SOLP48'] = X['P48SOLAR']-X['10034']\n",
    "X['Residual_Load/Load'] = X['10249'] / X['460'] \n",
    "\n",
    "y = TrainD[['762']]#762\n",
    "\n",
    "df_corr = pd.merge(X, y, left_index=True, right_index=True)\n",
    "correl = df_corr.corr()\n",
    "correl[['762']].sort_values(by='762', ascending=False)\n",
    "\n",
    "\n",
    "X_train, X_test, y_train, y_test = train_test_split(X, y, test_size=.25)"
   ]
  },
  {
   "cell_type": "code",
   "execution_count": null,
   "metadata": {
    "scrolled": true
   },
   "outputs": [],
   "source": [
    "#Imput correlation heatmap. \n",
    "\n",
    "import seaborn as sns\n",
    "%pylab inline\n",
    "\n",
    "sns.heatmap(TrainD.corr(),annot = True)"
   ]
  },
  {
   "cell_type": "code",
   "execution_count": null,
   "metadata": {},
   "outputs": [],
   "source": [
    "\n",
    "#RANDOM FOREST\n",
    "\n",
    "from sklearn.ensemble import RandomForestRegressor\n",
    "from sklearn.metrics import r2_score\n",
    "\n",
    "\n",
    "regRF = RandomForestRegressor(n_estimators= 5000)#5000 trees\n",
    "regRF.fit(X_train, y_train.values.ravel())\n",
    "predTest = regRF.predict(X_test)\n",
    "\n",
    "r2_test = r2_score(y_test, predTest)\n",
    "r2_test\n"
   ]
  },
  {
   "cell_type": "code",
   "execution_count": null,
   "metadata": {},
   "outputs": [],
   "source": [
    "#Inputs significance.\n",
    "\n",
    "signi = dict(zip(X.columns, regRF.feature_importances_)) \n",
    "signi"
   ]
  },
  {
   "cell_type": "code",
   "execution_count": null,
   "metadata": {},
   "outputs": [],
   "source": [
    "#GRADIENT BOOSTING\n",
    "\n",
    "from sklearn.ensemble import GradientBoostingRegressor\n",
    "from sklearn.metrics import r2_score, mean_squared_error\n",
    "\n",
    "df_corr = pd.merge(X, y, left_index=True, right_index=True)\n",
    "correl = df_corr.corr()\n",
    "correl[['762']].sort_values(by='762', ascending=False)\n",
    "\n",
    "X_train, X_test, y_train, y_test = train_test_split(X, y, test_size=.25)\n",
    "\n",
    "pin = {'learning_rate': 0.1, 'max_depth': 5, 'subsample': 0.8}\n",
    "gbr = GradientBoostingRegressor(n_estimators=5000, **pin)\n",
    "\n",
    "gbr.fit(X_train, y_train.values.ravel())                       \n",
    "predTestG = gbr.predict(X_test)\n",
    "                       \n",
    "r2_test = r2_score(y_test, predTestG)\n",
    "r2_test"
   ]
  },
  {
   "cell_type": "code",
   "execution_count": null,
   "metadata": {},
   "outputs": [],
   "source": [
    "#K-NEIGHBORS\n",
    "\n",
    "from sklearn.neighbors import KNeighborsRegressor        \n",
    "\n",
    "X_train, X_test, y_train, y_test = train_test_split(X, y, test_size=.25)\n",
    "\n",
    "kn=3\n",
    "knn = KNeighborsRegressor(n_neighbors = kn)\n",
    "knn.fit(X_train, y_train.values.ravel())\n",
    "testPred = knn.predict(X_test)\n",
    "r2_test = r2_score(y_test, testPred)\n",
    "knnPred = knn.predict(X_test)\n",
    "\n",
    "r2_test = r2_score(y_test, knnPred)\n",
    "r2_test\n",
    "        \n",
    "    "
   ]
  },
  {
   "cell_type": "code",
   "execution_count": null,
   "metadata": {},
   "outputs": [],
   "source": [
    "'''\n",
    "04. VISUALIZATION.\n",
    "'''"
   ]
  },
  {
   "cell_type": "code",
   "execution_count": null,
   "metadata": {},
   "outputs": [],
   "source": [
    "# Wind Power Generation vs Load Graphic.\n",
    "plt.plot( X['windpower/Load'], marker='.', color='blue', linewidth=0.25, alpha=0.5)\n",
    "plt.title(\"Wind Power vs Load\")\n",
    "plt.xlabel(\"Date\")\n",
    "plt.ylabel(\"MW/Load\")"
   ]
  },
  {
   "cell_type": "code",
   "execution_count": null,
   "metadata": {
    "scrolled": true
   },
   "outputs": [],
   "source": [
    "#Visualization of solar P48 program.\n",
    "plt.margins(xmargin=0.000000015)\n",
    "plt.plot( X['P48SOLAR'], marker='.', color='orange', linewidth=0.15, alpha=0.5)\n",
    "plt.title(\"Solar p48 program\")\n",
    "plt.xlabel(\"Date\")\n",
    "plt.ylabel(\"MW\")"
   ]
  },
  {
   "cell_type": "code",
   "execution_count": null,
   "metadata": {},
   "outputs": [],
   "source": [
    "#Visualization of output parameter, Net Balance in Iberian Grid.\n",
    "plt.plot( TrainD[['762']], marker='.', color='green', linewidth=0.5, alpha=0.5)\n",
    "plt.title(\"Balancegrid\")\n",
    "plt.xlabel(\"Date\")\n",
    "plt.ylabel(\"MW\")"
   ]
  },
  {
   "cell_type": "code",
   "execution_count": null,
   "metadata": {},
   "outputs": [],
   "source": [
    "#Plotting Evaluation data\n",
    "EvalD.plot(figsize=(15,10), title= 'Daily values', fontsize=20)\n",
    "plt.show()"
   ]
  },
  {
   "cell_type": "code",
   "execution_count": null,
   "metadata": {},
   "outputs": [],
   "source": []
  },
  {
   "cell_type": "code",
   "execution_count": null,
   "metadata": {},
   "outputs": [],
   "source": []
  }
 ],
 "metadata": {
  "kernelspec": {
   "display_name": "Python 3",
   "language": "python",
   "name": "python3"
  },
  "language_info": {
   "codemirror_mode": {
    "name": "ipython",
    "version": 3
   },
   "file_extension": ".py",
   "mimetype": "text/x-python",
   "name": "python",
   "nbconvert_exporter": "python",
   "pygments_lexer": "ipython3",
   "version": "3.6.5"
  }
 },
 "nbformat": 4,
 "nbformat_minor": 2
}
