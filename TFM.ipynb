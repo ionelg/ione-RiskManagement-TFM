{
 "cells": [
  {
   "cell_type": "code",
   "execution_count": null,
   "metadata": {},
   "outputs": [],
   "source": [
    "print (\"\"\"TFM: RISK MANAGEMENT IN IBERIAN SPOT MARKET.\"\"\")\n",
    "    "
   ]
  },
  {
   "cell_type": "code",
   "execution_count": null,
   "metadata": {},
   "outputs": [],
   "source": [
    "'''\n",
    "1. IMPORTING USEFUL PACKAGES.\n",
    "'''\n",
    "\n",
    "import pandas as pd\n",
    "import requests # When you ping a website or portal for information this is called making a request.\n",
    "import json # JavaScript Object Notation. Storing and Exanging files. \n",
    "import os # You can find important information about your location or about the process. \n",
    "import win32com.client as win32\n",
    "%pylab inline \n",
    "# Import numpy as np and import matploltlib(plt as pyplot)\n",
    "import esios # Imports our esios package.\n",
    "os.getcwd()  #Current working directory."
   ]
  },
  {
   "cell_type": "code",
   "execution_count": null,
   "metadata": {},
   "outputs": [],
   "source": [
    "\n",
    "#os.chdir('C:\\\\Users\\\\user\\\\Desktop\\\\ione py') # Working directory. esios.py must be there.\n",
    "os.chdir('C:\\\\Users\\\\ilopez18\\\\Desktop\\\\py\\\\')"
   ]
  },
  {
   "cell_type": "code",
   "execution_count": null,
   "metadata": {},
   "outputs": [],
   "source": [
    "'''\n",
    "2. BRIEF DESCRIPTION ON API REQUESTS AND SPOT MARKET AGENTS.\n",
    "'''\n",
    "\n",
    "esios.header() #  Header API request.\n",
    "\n",
    "# In esios.py package introduce your own TOKEN.- consultasios@ree.es"
   ]
  },
  {
   "cell_type": "code",
   "execution_count": null,
   "metadata": {},
   "outputs": [],
   "source": [
    "esios.archives_json_dict() #dic with json files."
   ]
  },
  {
   "cell_type": "code",
   "execution_count": null,
   "metadata": {},
   "outputs": [],
   "source": [
    "esios_indicators = esios.indicators_dict()\n",
    "esios_indicators"
   ]
  },
  {
   "cell_type": "code",
   "execution_count": null,
   "metadata": {},
   "outputs": [],
   "source": [
    "len(esios_indicators)# Number or indicators."
   ]
  },
  {
   "cell_type": "code",
   "execution_count": null,
   "metadata": {},
   "outputs": [],
   "source": [
    "'''\n",
    "lambda operator can have any number of arguments, but it can have only one expression. It cannot contain any statements and it returns a function object which can be assigned to any variable.\n",
    "'''\n",
    "#Sort esios_indicators dictionary by key, giving a list. Introducing a 'x[0]' will sort by value, alphabetically.\n",
    "sorted_esios_indicators = sorted(esios_indicators.items(), key=lambda x: x[1])\n",
    "sorted_esios_indicators"
   ]
  },
  {
   "cell_type": "code",
   "execution_count": null,
   "metadata": {},
   "outputs": [],
   "source": [
    "programunits = esios.PUs() #Dataframe wich contains all agents present in Spot market.\n",
    "programunits"
   ]
  },
  {
   "cell_type": "code",
   "execution_count": null,
   "metadata": {},
   "outputs": [],
   "source": [
    "programunits.describe() #short description of Spot Market agents."
   ]
  },
  {
   "cell_type": "code",
   "execution_count": null,
   "metadata": {},
   "outputs": [],
   "source": [
    "programunits.info()"
   ]
  },
  {
   "cell_type": "code",
   "execution_count": null,
   "metadata": {},
   "outputs": [],
   "source": [
    "#Alternative way to download \"UNIDADES DE PROGRAMACION\" dataset.\n",
    "#path =\"C:............/Data.csv\" #Download \"UNIDADES DE PORGRAMACION\" from www.esios.ree.es, rename as Data.\n",
    "#programunits = pd.read_csv(path, sep=';')\n",
    "#programunits.head()"
   ]
  },
  {
   "cell_type": "code",
   "execution_count": null,
   "metadata": {},
   "outputs": [],
   "source": [
    "#Columns tittles.\n",
    "programunits.columns.values.tolist()\n"
   ]
  },
  {
   "cell_type": "code",
   "execution_count": null,
   "metadata": {},
   "outputs": [],
   "source": [
    "#Erase spaces from dataframe head.\n",
    "programunits.columns = programunits.columns.str.replace(' ','')\n",
    "programunits"
   ]
  },
  {
   "cell_type": "code",
   "execution_count": null,
   "metadata": {},
   "outputs": [],
   "source": [
    "#Is there any NAN?\n",
    "programunits.isnull().values.any()"
   ]
  },
  {
   "cell_type": "code",
   "execution_count": null,
   "metadata": {},
   "outputs": [],
   "source": [
    "#Where are this NaN.\n",
    "programunits.isnull().sum()"
   ]
  },
  {
   "cell_type": "code",
   "execution_count": null,
   "metadata": {},
   "outputs": [],
   "source": [
    "#DISPLAY dataframe cointaining NAN.\n",
    "programunitsNAN = programunits[programunits.isnull().any(axis=1)]\n",
    "programunitsNAN"
   ]
  },
  {
   "cell_type": "code",
   "execution_count": null,
   "metadata": {},
   "outputs": [],
   "source": [
    "#change NAN for Porfolio\n",
    "programunits.fillna('PORFOLIO', inplace=True)\n",
    "programunits"
   ]
  },
  {
   "cell_type": "code",
   "execution_count": null,
   "metadata": {},
   "outputs": [],
   "source": [
    "#Unique values in column 'ProductionType'\n",
    "programunits.ProductionType.unique()\n"
   ]
  },
  {
   "cell_type": "code",
   "execution_count": null,
   "metadata": {},
   "outputs": [],
   "source": [
    "ini, fin = '20180801', '20181025'\n",
    "lista_indicadores = [541,10249, 460,600,39,74,82, 10027,10034,84,85,10010, 762]\n",
    "\n",
    "datos = esios.Batch(ini, fin, lista_indicadores)\n",
    "\n",
    "datos\n",
    "#X = datos[['541','10249','10027','39','82','74','460','10010','84','85','10034']]\n",
    "#X = X.fillna(0)\n"
   ]
  },
  {
   "cell_type": "code",
   "execution_count": null,
   "metadata": {},
   "outputs": [],
   "source": [
    "import esios"
   ]
  },
  {
   "cell_type": "code",
   "execution_count": null,
   "metadata": {},
   "outputs": [],
   "source": [
    "'''\n",
    "\n",
    "3. REGRESSIONS \n",
    "\n",
    "'''\n",
    "#RANDOM FOREST\n",
    "\n",
    "from sklearn.linear_model import LinearRegression\n",
    "from sklearn.ensemble import RandomForestRegressor\n",
    "from sklearn.model_selection import train_test_split\n",
    "from sklearn.metrics import r2_score\n",
    "\n",
    "\n",
    "ini, fin = '20180801', '20181025'\n",
    "lista_indicadores = [541,10249, 460,600,39,74,82, 10027,10034,84,85,10010, 762]\n",
    "\n",
    "datos = esios.Batch(ini, fin, lista_indicadores)\n",
    "\n",
    "\n",
    "X = datos[['541','10249','10027','39','82','74','460','10010','84','85','10034']]\n",
    "X = X.fillna(0)\n",
    "X['hour'] = [x.hour for x in X.index]\n",
    "X['weekday'] = [x.weekday() for x in X.index]\n",
    "X['weekend'] = [1 if x>=5 else 0 for x in X['weekday']]\n",
    "X['dif_demp48'] = X['10027']-X['460']\n",
    "X['dif_eol48'] = X['10010']-X['541']\n",
    "X['windpower/Load'] = X['541'] / X['460'] \n",
    "X['P48SOLAR']= X['84']+X['85']\n",
    "X['dif_SOLP48'] = X['P48SOLAR']-X['10034']\n",
    "X['Residual_Load/Load'] = X['10249'] / X['460'] \n",
    "\n",
    "y = datos[['762']]#762\n",
    "\n",
    "df_corr = pd.merge(X, y, left_index=True, right_index=True)\n",
    "correl = df_corr.corr()\n",
    "correl[['762']].sort_values(by='762', ascending=False)\n",
    "\n",
    "\n",
    "X_train, X_test, y_train, y_test = train_test_split(X, y, test_size=.25)\n",
    "\n",
    "reg = RandomForestRegressor(n_estimators= 5000)#5000 trees\n",
    "reg.fit(X_train, y_train.values.ravel())\n",
    "predTest = reg.predict(X_test)\n",
    "\n",
    "r2_test = r2_score(y_test, predTest)\n",
    "r2_test"
   ]
  },
  {
   "cell_type": "code",
   "execution_count": null,
   "metadata": {},
   "outputs": [],
   "source": [
    "indicator = [541,10249, 460,39,74,82,10027,10034,84,85,10010, 762]\n",
    "indicator"
   ]
  },
  {
   "cell_type": "code",
   "execution_count": null,
   "metadata": {},
   "outputs": [],
   "source": [
    "plt.plot( X['541'], marker='.', color='black', linewidth=3, alpha=0.5)\n",
    "plt.xlabel(\"'windpower'\")\n",
    "plt.ylabel(\"MW\")"
   ]
  },
  {
   "cell_type": "code",
   "execution_count": null,
   "metadata": {},
   "outputs": [],
   "source": [
    "plt.plot( X['windpower/Load'], marker='.', color='blue', linewidth=3, alpha=0.5)\n",
    "plt.xlabel(\"'windpower/Load'\")\n",
    "plt.ylabel(\"MW/Load\")"
   ]
  },
  {
   "cell_type": "code",
   "execution_count": null,
   "metadata": {},
   "outputs": [],
   "source": [
    "plt.margins(xmargin=0.15)\n",
    "plt.plot( X['P48SOLAR'], marker='.', color='orange', linewidth=3, alpha=0.5)\n",
    "plt.xlabel(\"Solar p48 prgram\")\n",
    "plt.ylabel(\"MW\")"
   ]
  },
  {
   "cell_type": "code",
   "execution_count": null,
   "metadata": {},
   "outputs": [],
   "source": [
    "plt.plot( datos[['762']], marker='.', color='green', linewidth=3, alpha=0.5)\n",
    "plt.xlabel(\"Balancegrid\")\n",
    "plt.ylabel(\"MW\")"
   ]
  },
  {
   "cell_type": "code",
   "execution_count": null,
   "metadata": {},
   "outputs": [],
   "source": [
    "a = dict(zip(X.columns, reg.feature_importances_)) #input significance.\n",
    "a"
   ]
  },
  {
   "cell_type": "code",
   "execution_count": null,
   "metadata": {},
   "outputs": [],
   "source": [
    "#imput correlation heatmap. \n",
    "\n",
    "import seaborn as sns\n",
    "%pylab inline\n",
    "\n",
    "sns.heatmap(datos.corr(),annot = True)"
   ]
  },
  {
   "cell_type": "code",
   "execution_count": null,
   "metadata": {},
   "outputs": [],
   "source": [
    "datos"
   ]
  },
  {
   "cell_type": "code",
   "execution_count": null,
   "metadata": {},
   "outputs": [],
   "source": [
    "#GRADIENT BOOSTING\n",
    "\n",
    "from sklearn.ensemble import GradientBoostingRegressor\n",
    "from sklearn.metrics import r2_score, mean_squared_error\n",
    "\n",
    "df_corr = pd.merge(X, y, left_index=True, right_index=True)\n",
    "correl = df_corr.corr()\n",
    "correl[['762']].sort_values(by='762', ascending=False)\n",
    "\n",
    "X_train, X_test, y_train, y_test = train_test_split(X, y, test_size=.25)\n",
    "\n",
    "pin = {'learning_rate': 0.1, 'max_depth': 5, 'subsample': 0.8}\n",
    "gbr = GradientBoostingRegressor(n_estimators=5000, **pin)\n",
    "\n",
    "gbr.fit(X_train, y_train.values.ravel())                       \n",
    "predTest = gbr.predict(X_test)\n",
    "                       \n",
    "r2_test = r2_score(y_test, predTest)\n",
    "r2_test\n"
   ]
  },
  {
   "cell_type": "code",
   "execution_count": null,
   "metadata": {},
   "outputs": [],
   "source": [
    "#K-NEIGHBORS\n",
    "\n",
    "from sklearn.neighbors import KNeighborsRegressor        \n",
    "\n",
    "X_train, X_test, y_train, y_test = train_test_split(X, y, test_size=.25)\n",
    "\n",
    "kn=3\n",
    "knn = KNeighborsRegressor(n_neighbors = kn)\n",
    "knn.fit(X_train, y_train.values.ravel())\n",
    "testPred = knn.predict(X_test)\n",
    "r2_test = r2_score(y_test, testPred)\n",
    "knnPred = knn.predict(X_test)\n",
    "\n",
    "r2_test = r2_score(y_test, knnPred)\n",
    "r2_test\n",
    "        \n"
   ]
  },
  {
   "cell_type": "code",
   "execution_count": null,
   "metadata": {},
   "outputs": [],
   "source": []
  },
  {
   "cell_type": "code",
   "execution_count": null,
   "metadata": {},
   "outputs": [],
   "source": []
  },
  {
   "cell_type": "code",
   "execution_count": null,
   "metadata": {},
   "outputs": [],
   "source": []
  },
  {
   "cell_type": "code",
   "execution_count": null,
   "metadata": {},
   "outputs": [],
   "source": []
  },
  {
   "cell_type": "code",
   "execution_count": null,
   "metadata": {},
   "outputs": [],
   "source": []
  },
  {
   "cell_type": "code",
   "execution_count": null,
   "metadata": {},
   "outputs": [],
   "source": []
  },
  {
   "cell_type": "code",
   "execution_count": null,
   "metadata": {},
   "outputs": [],
   "source": []
  },
  {
   "cell_type": "code",
   "execution_count": null,
   "metadata": {},
   "outputs": [],
   "source": []
  },
  {
   "cell_type": "code",
   "execution_count": null,
   "metadata": {},
   "outputs": [],
   "source": []
  },
  {
   "cell_type": "code",
   "execution_count": null,
   "metadata": {},
   "outputs": [],
   "source": []
  },
  {
   "cell_type": "code",
   "execution_count": null,
   "metadata": {},
   "outputs": [],
   "source": []
  },
  {
   "cell_type": "code",
   "execution_count": null,
   "metadata": {},
   "outputs": [],
   "source": []
  },
  {
   "cell_type": "code",
   "execution_count": null,
   "metadata": {},
   "outputs": [],
   "source": []
  },
  {
   "cell_type": "code",
   "execution_count": null,
   "metadata": {},
   "outputs": [],
   "source": []
  },
  {
   "cell_type": "code",
   "execution_count": null,
   "metadata": {},
   "outputs": [],
   "source": []
  }
 ],
 "metadata": {
  "kernelspec": {
   "display_name": "Python 3",
   "language": "python",
   "name": "python3"
  },
  "language_info": {
   "codemirror_mode": {
    "name": "ipython",
    "version": 3
   },
   "file_extension": ".py",
   "mimetype": "text/x-python",
   "name": "python",
   "nbconvert_exporter": "python",
   "pygments_lexer": "ipython3",
   "version": "3.6.5"
  }
 },
 "nbformat": 4,
 "nbformat_minor": 2
}
